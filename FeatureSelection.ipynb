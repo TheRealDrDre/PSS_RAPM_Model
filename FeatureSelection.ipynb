{
 "cells": [
  {
   "cell_type": "code",
   "execution_count": 1,
   "metadata": {
    "collapsed": false
   },
   "outputs": [],
   "source": [
    "%reload_ext autoreload\n",
    "%autoreload 2"
   ]
  },
  {
   "cell_type": "code",
   "execution_count": 2,
   "metadata": {
    "collapsed": false
   },
   "outputs": [],
   "source": [
    "import math\n",
    "import features\n",
    "import rapm\n",
    "import matplotlib.pyplot as plt\n",
    "import matplotlib.colors as colors\n",
    "import matplotlib.cm as cmx\n",
    "import numpy as np\n",
    "f = features.Feature()\n",
    "f.temperature = 0.1\n",
    "f.select()\n",
    "fs = features.FeatureSelector(4, 1)"
   ]
  },
  {
   "cell_type": "code",
   "execution_count": 3,
   "metadata": {
    "collapsed": false
   },
   "outputs": [
    {
     "data": {
      "image/png": "[encoded data removed]",
      "text/plain": [
       "<matplotlib.figure.Figure at 0x7fb8106cb128>"
      ]
     },
     "metadata": {},
     "output_type": "display_data"
    }
   ],
   "source": [
    "fs.ncorrect = 1\n",
    "fs.generate_target()\n",
    "f = features.Feature()\n",
    "f.anticorrelated = True\n",
    "f.go = 0.76\n",
    "f.temperature = 0.2\n",
    "f.alpha = 0.1\n",
    "f.d1 = 2\n",
    "f.lowbounded = True\n",
    "vals = [[f.go, f.nogo]]\n",
    "for i in range(15):\n",
    "    f.select();\n",
    "    if f.selected:\n",
    "        f.update(-1)\n",
    "    else:\n",
    "        f.update(1)\n",
    "    vals.append([f.go, f.nogo])\n",
    "    \n",
    "xs = list(range(len(vals)))\n",
    "plt.axis([-0.5, len(vals) + 0.5, -1, 1])\n",
    "plt.ylabel(\"Q value\")\n",
    "plt.xlabel(\"Iteration\")\n",
    "plt.title(\"Q-Value Update Test\")\n",
    "goes = [x[0] for x in vals]\n",
    "nogoes = [x[1] for x in vals]\n",
    "plt.plot(xs, goes, \"o-\", color=\"green\")\n",
    "plt.plot(xs, nogoes, \"o-\", color=\"red\")\n",
    "plt.grid()\n",
    "plt.legend([\"Go\", \"NoGo\"], loc=\"best\")\n",
    "plt.show()\n"
   ]
  },
  {
   "cell_type": "code",
   "execution_count": 39,
   "metadata": {
    "collapsed": false
   },
   "outputs": [
    {
     "name": "stdout",
     "output_type": "stream",
     "text": [
      "500\n"
     ]
    },
    {
     "data": {
      "text/plain": [
       "120"
      ]
     },
     "execution_count": 39,
     "metadata": {},
     "output_type": "execute_result"
    }
   ],
   "source": [
    "import rapm\n",
    "p = rapm.Problem(6,1, maxruns = 500)\n",
    "s = p.generate_solution()\n",
    "print(p.maxruns)\n",
    "p.simulate()"
   ]
  },
  {
   "cell_type": "code",
   "execution_count": 4,
   "metadata": {
    "collapsed": false
   },
   "outputs": [],
   "source": [
    "res = {}\n",
    "nfeat = 7\n",
    "ncorrect = 2\n",
    "alpha = 0.1\n",
    "temp = 0.1\n",
    "nsims = 500\n",
    "anticorrelated = True\n",
    "maxruns = 2000\n",
    "lowbounded = True\n",
    "\n",
    "d_vals = [x/100.0 for x in list(range(0, 201, 20))]\n",
    "\n",
    "for d in d_vals:\n",
    "    name = \"%.1f\" % d\n",
    "    fs = features.FeatureSelector(nfeatures = nfeat, ncorrect = ncorrect,  maxruns = maxruns)\n",
    "    fs.alpha = alpha\n",
    "    fs.temperature = temp\n",
    "    fs.anticorrelated = anticorrelated\n",
    "    fs.lowbounded = lowbounded\n",
    "    \n",
    "    fs.d2 = d\n",
    "    \n",
    "    res[name] = []\n",
    "    partial = []\n",
    "    for n in range(nsims):\n",
    "        partial.append(fs.simulate())\n",
    "    res[name].append(np.mean(partial))\n",
    "    \n",
    "d2_res = res\n",
    "\n",
    "res = {}\n",
    "for d in d_vals:\n",
    "    name = \"%.1f\" % d\n",
    "    fs = features.FeatureSelector(nfeatures = nfeat, ncorrect = ncorrect,  maxruns = maxruns)\n",
    "    fs.alpha = alpha\n",
    "    fs.temperature = temp\n",
    "    fs.anticorrelated = anticorrelated\n",
    "    fs.lowbounded = lowbounded\n",
    "    \n",
    "    fs.d1 = d\n",
    "    \n",
    "    res[name] = []\n",
    "    partial = []\n",
    "    for n in range(nsims):\n",
    "        partial.append(fs.simulate())\n",
    "    res[name].append(np.mean(partial))\n",
    "\n",
    "d1_res = res\n",
    "    \n",
    "\n"
   ]
  },
  {
   "cell_type": "code",
   "execution_count": null,
   "metadata": {
    "collapsed": true
   },
   "outputs": [],
   "source": []
  },
  {
   "cell_type": "code",
   "execution_count": 42,
   "metadata": {
    "collapsed": false,
    "scrolled": false
   },
   "outputs": [
    {
     "data": {
      "image/png": "[encoded data removed]",
      "text/plain": [
       "<matplotlib.figure.Figure at 0x7fb80cf94438>"
      ]
     },
     "metadata": {},
     "output_type": "display_data"
    },
    {
     "data": {
      "image/png": "[encoded data removed]",
      "text/plain": [
       "<matplotlib.figure.Figure at 0x7fb80d0f3eb8>"
      ]
     },
     "metadata": {},
     "output_type": "display_data"
    },
    {
     "data": {
      "text/plain": [
       "[True, True, True, True]"
      ]
     },
     "execution_count": 42,
     "metadata": {},
     "output_type": "execute_result"
    }
   ],
   "source": [
    "plt.axis([-0.05, 2.05, 0, 650])\n",
    "plt.ylabel(\"Attempts to convergence\")\n",
    "plt.xlabel(\"D-Receptor value\")\n",
    "plt.title(\"Selector performance across receptor values\")\n",
    "d2y = [d2_res[\"%.1f\" % x] for x in d_vals]\n",
    "d1y = [d1_res[\"%.1f\" % x] for x in d_vals]\n",
    "plt.plot(d_vals, d1y, \"o--\", color=\"green\")\n",
    "plt.plot(d_vals, d2y, \"o--\", color=\"red\")\n",
    "plt.grid()\n",
    "plt.legend([\"D1\", \"D2\"], loc=\"best\")\n",
    "plt.show()\n",
    "[f.lowbounded for f in fs.features]\n",
    "\n",
    "plt.axis([-0.05, 2.05, 0, 100])\n",
    "plt.ylabel(\"Probability of solution\")\n",
    "plt.xlabel(\"Simulated Receptor value\")\n",
    "plt.title(\"Selector performance across receptor values\")\n",
    "ad2y = [(800 - x[0])/10.0 for x in d2y]\n",
    "ad1y = [(800 - x[0])/10.0 for x in d1y]\n",
    "plt.plot(d_vals, ad1y, \"o--\", color=\"green\")\n",
    "plt.plot(d_vals, ad2y, \"o--\", color=\"red\")\n",
    "plt.grid()\n",
    "plt.legend([\"D1\", \"D2\"], loc=\"best\")\n",
    "plt.show()\n",
    "[f.lowbounded for f in fs.features]\n"
   ]
  },
  {
   "cell_type": "code",
   "execution_count": 40,
   "metadata": {
    "collapsed": false
   },
   "outputs": [
    {
     "ename": "NameError",
     "evalue": "name 'd2y' is not defined",
     "output_type": "error",
     "traceback": [
      "\u001b[0;31m---------------------------------------------------------------------------\u001b[0m",
      "\u001b[0;31mNameError\u001b[0m                                 Traceback (most recent call last)",
      "\u001b[0;32m<ipython-input-40-c32a8d3c971b>\u001b[0m in \u001b[0;36m<module>\u001b[0;34m()\u001b[0m\n\u001b[1;32m      3\u001b[0m \u001b[0mplt\u001b[0m\u001b[0;34m.\u001b[0m\u001b[0mxlabel\u001b[0m\u001b[0;34m(\u001b[0m\u001b[0;34m\"Simulated pathway strength\"\u001b[0m\u001b[0;34m)\u001b[0m\u001b[0;34m\u001b[0m\u001b[0m\n\u001b[1;32m      4\u001b[0m \u001b[0mplt\u001b[0m\u001b[0;34m.\u001b[0m\u001b[0mtitle\u001b[0m\u001b[0;34m(\u001b[0m\u001b[0;34m\"Model predictions\"\u001b[0m\u001b[0;34m)\u001b[0m\u001b[0;34m\u001b[0m\u001b[0m\n\u001b[0;32m----> 5\u001b[0;31m \u001b[0mad2y\u001b[0m \u001b[0;34m=\u001b[0m \u001b[0;34m[\u001b[0m\u001b[0;34m(\u001b[0m\u001b[0;36m800\u001b[0m \u001b[0;34m-\u001b[0m \u001b[0mx\u001b[0m\u001b[0;34m[\u001b[0m\u001b[0;36m0\u001b[0m\u001b[0;34m]\u001b[0m\u001b[0;34m)\u001b[0m\u001b[0;34m/\u001b[0m\u001b[0;36m10.0\u001b[0m \u001b[0;32mfor\u001b[0m \u001b[0mx\u001b[0m \u001b[0;32min\u001b[0m \u001b[0md2y\u001b[0m\u001b[0;34m]\u001b[0m\u001b[0;34m\u001b[0m\u001b[0m\n\u001b[0m\u001b[1;32m      6\u001b[0m \u001b[0mad1y\u001b[0m \u001b[0;34m=\u001b[0m \u001b[0;34m[\u001b[0m\u001b[0;34m(\u001b[0m\u001b[0;36m800\u001b[0m \u001b[0;34m-\u001b[0m \u001b[0mx\u001b[0m\u001b[0;34m[\u001b[0m\u001b[0;36m0\u001b[0m\u001b[0;34m]\u001b[0m\u001b[0;34m)\u001b[0m\u001b[0;34m/\u001b[0m\u001b[0;36m10.0\u001b[0m \u001b[0;32mfor\u001b[0m \u001b[0mx\u001b[0m \u001b[0;32min\u001b[0m \u001b[0md1y\u001b[0m\u001b[0;34m]\u001b[0m\u001b[0;34m\u001b[0m\u001b[0m\n\u001b[1;32m      7\u001b[0m \u001b[0mm\u001b[0m \u001b[0;34m=\u001b[0m \u001b[0mnp\u001b[0m\u001b[0;34m.\u001b[0m\u001b[0mmean\u001b[0m\u001b[0;34m(\u001b[0m\u001b[0mad1y\u001b[0m\u001b[0;34m)\u001b[0m\u001b[0;34m\u001b[0m\u001b[0m\n",
      "\u001b[0;31mNameError\u001b[0m: name 'd2y' is not defined"
     ]
    }
   ],
   "source": [
    "plt.axis([-0.05, 2.05, 0, 100])\n",
    "plt.ylabel(\"Probability of solution\")\n",
    "plt.xlabel(\"Simulated pathway strength\")\n",
    "plt.title(\"Model predictions\")\n",
    "ad2y = [(800 - x[0])/10.0 for x in d2y]\n",
    "ad1y = [(800 - x[0])/10.0 for x in d1y]\n",
    "m = np.mean(ad1y)\n",
    "plt.plot(d_vals, ad1y, \"o--\", color=\"green\")\n",
    "plt.plot(d_vals, ad2y, \"o--\", color=\"red\")\n",
    "plt.grid()\n",
    "plt.legend([\"Direct (D1)\", \"Indirect (D2)\"], loc=\"best\")\n",
    "plt.show()\n",
    "[f.lowbounded for f in fs.features]\n"
   ]
  },
  {
   "cell_type": "code",
   "execution_count": 41,
   "metadata": {
    "collapsed": true
   },
   "outputs": [],
   "source": [
    "res = {}\n",
    "nfeat = 6\n",
    "ncorrect = 1\n",
    "alpha = 0.1\n",
    "temp = 0.1\n",
    "nsims = 100\n",
    "anticorrelated = True\n",
    "nrules = 4\n",
    "maxruns = 500\n",
    "lowbounded = True\n",
    "\n",
    "d_vals = [x / 100.0 for x in list(range(0, 201, 20))]\n",
    "\n",
    "for d in d_vals:\n",
    "    name = \"%.1f\" % d\n",
    "    ps = rapm.Problem(nfeatures = nfeat, ncorrect = ncorrect,  nrules = nrules, maxruns = maxruns)\n",
    "    ps.alpha = alpha\n",
    "    ps.temperature = temp\n",
    "    ps.anticorrelated = anticorrelated\n",
    "    ps.lowbounded = lowbounded\n",
    "    \n",
    "    ps.d2 = d\n",
    "    \n",
    "    res[name] = []\n",
    "    partial = []\n",
    "    for n in range(nsims):\n",
    "        solved = ps.solve()\n",
    "        if solved:\n",
    "            partial.append(1)\n",
    "        else:\n",
    "            partial.append(0)\n",
    "    res[name].append(np.mean(partial))\n",
    "    \n",
    "d2_res = res\n",
    "\n",
    "res = {}\n",
    "for d in d_vals:\n",
    "    name = \"%.1f\" % d\n",
    "    ps = rapm.Problem(nfeatures = nfeat, ncorrect = ncorrect,  nrules = nrules, maxruns = maxruns)\n",
    "    ps.alpha = alpha\n",
    "    ps.temperature = temp\n",
    "    ps.anticorrelated = anticorrelated\n",
    "    ps.lowbounded = lowbounded\n",
    "    \n",
    "    ps.d1 = d\n",
    "    \n",
    "    res[name] = []\n",
    "    partial = []\n",
    "    for n in range(nsims):\n",
    "        solved = ps.solve()\n",
    "        if solved:\n",
    "            partial.append(1)\n",
    "        else:\n",
    "            partial.append(0)\n",
    "    res[name].append(np.mean(partial))\n",
    "\n",
    "d1_res = res\n"
   ]
  },
  {
   "cell_type": "code",
   "execution_count": null,
   "metadata": {
    "collapsed": true
   },
   "outputs": [],
   "source": []
  }
 ],
 "metadata": {
  "kernelspec": {
   "display_name": "Python 3",
   "language": "python",
   "name": "python3"
  },
  "language_info": {
   "codemirror_mode": {
    "name": "ipython",
    "version": 3
   },
   "file_extension": ".py",
   "mimetype": "text/x-python",
   "name": "python",
   "nbconvert_exporter": "python",
   "pygments_lexer": "ipython3",
   "version": "3.6.0"
  }
 },
 "nbformat": 4,
 "nbformat_minor": 2
}
