{
 "cells": [
  {
   "cell_type": "code",
   "execution_count": 1,
   "metadata": {
    "collapsed": true
   },
   "outputs": [],
   "source": [
    "%reload_ext autoreload\n",
    "%autoreload 2"
   ]
  },
  {
   "cell_type": "code",
   "execution_count": 4,
   "metadata": {
    "collapsed": true
   },
   "outputs": [],
   "source": [
    "import rapm\n",
    "rapm.generate_scripts()"
   ]
  },
  {
   "cell_type": "code",
   "execution_count": 16,
   "metadata": {
    "collapsed": true
   },
   "outputs": [],
   "source": [
    "import math\n",
    "import features\n",
    "import rapm\n",
    "import matplotlib.pyplot as plt\n",
    "import matplotlib.colors as colors\n",
    "import matplotlib.cm as cmx\n",
    "import numpy as np\n",
    "\n",
    "FULL_SIMS = False"
   ]
  },
  {
   "cell_type": "code",
   "execution_count": 11,
   "metadata": {
    "collapsed": false
   },
   "outputs": [],
   "source": [
    "res = {}\n",
    "activity = {}\n",
    "nfeat = 6\n",
    "ncorrect = 1\n",
    "alpha = 0.1\n",
    "temp = 0.1\n",
    "nsims = 200\n",
    "anticorrelated = True\n",
    "nrules = 4\n",
    "maxruns = 150\n",
    "lowbounded = True\n",
    "\n",
    "d_vals = [x / 100.0 for x in list(range(0, 201, 20))]\n",
    "\n",
    "for d in d_vals:\n",
    "    name = \"%.1f\" % d\n",
    "    ps = rapm.Problem(nfeatures = nfeat, ncorrect = ncorrect,  nrules = nrules, maxruns = maxruns)\n",
    "    ps.alpha = alpha\n",
    "    ps.temperature = temp\n",
    "    ps.anticorrelated = anticorrelated\n",
    "    ps.lowbounded = lowbounded\n",
    "    \n",
    "    ps.d2 = d\n",
    "    \n",
    "    res[name] = []\n",
    "    partial = []\n",
    "    for n in range(nsims):\n",
    "        solved = ps.solve()\n",
    "        if solved:\n",
    "            partial.append(1)\n",
    "        else:\n",
    "            partial.append(0)\n",
    "    res[name].append(np.mean(partial))\n",
    "    \n",
    "d2_res = res\n",
    "\n",
    "res = {}\n",
    "for d in d_vals:\n",
    "    name = \"%.1f\" % d\n",
    "    ps = rapm.Problem(nfeatures = nfeat, ncorrect = ncorrect,  nrules = nrules, maxruns = maxruns)\n",
    "    ps.alpha = alpha\n",
    "    ps.temperature = temp\n",
    "    ps.anticorrelated = anticorrelated\n",
    "    ps.lowbounded = lowbounded\n",
    "    \n",
    "    ps.d1 = d\n",
    "    \n",
    "    res[name] = []\n",
    "    partial = []\n",
    "    for n in range(nsims):\n",
    "        solved = ps.solve()\n",
    "        if solved:\n",
    "            partial.append(1)\n",
    "        else:\n",
    "            partial.append(0)\n",
    "    res[name].append(np.mean(partial))\n",
    "\n",
    "d1_res = res\n"
   ]
  },
  {
   "cell_type": "code",
   "execution_count": 12,
   "metadata": {
    "collapsed": false
   },
   "outputs": [
    {
     "data": {
      "image/png": "[encoded data removed]",
      "text/plain": [
       "<matplotlib.figure.Figure at 0x7f5aea6e2630>"
      ]
     },
     "metadata": {},
     "output_type": "display_data"
    }
   ],
   "source": [
    "plt.axis([-0.05, 2.05, 0, 1.1])\n",
    "plt.ylabel(\"Probability of solution\")\n",
    "plt.xlabel(\"D-Receptor value\")\n",
    "plt.title(\"Accuracy across receptor values\")\n",
    "d2y = [d2_res[\"%.1f\" % x] for x in d_vals]\n",
    "d1y = [d1_res[\"%.1f\" % x] for x in d_vals]\n",
    "plt.plot(d_vals, d1y, \"o--\", color=\"green\")\n",
    "plt.plot(d_vals, d2y, \"o--\", color=\"red\")\n",
    "plt.grid()\n",
    "plt.legend([\"D1\", \"D2\"], loc=\"best\")\n",
    "plt.show()\n",
    "#[f.lowbounded for f in fs.features]"
   ]
  },
  {
   "cell_type": "code",
   "execution_count": 25,
   "metadata": {
    "collapsed": false
   },
   "outputs": [
    {
     "name": "stdout",
     "output_type": "stream",
     "text": [
      "(12, [], -0.0022906234666666661)\n"
     ]
    }
   ],
   "source": [
    "p = rapm.Problem(4)\n",
    "k = p.update(-1)\n",
    "p.mean_dopamine(k)\n",
    "print(p.simulate())"
   ]
  },
  {
   "cell_type": "code",
   "execution_count": 17,
   "metadata": {
    "collapsed": false
   },
   "outputs": [
    {
     "ename": "NameError",
     "evalue": "name 'FULL_SIMS' is not defined",
     "output_type": "error",
     "traceback": [
      "\u001b[0;31m---------------------------------------------------------------------------\u001b[0m",
      "\u001b[0;31mNameError\u001b[0m                                 Traceback (most recent call last)",
      "\u001b[0;32m<ipython-input-17-941ffb8d34cc>\u001b[0m in \u001b[0;36m<module>\u001b[0;34m()\u001b[0m\n\u001b[1;32m      1\u001b[0m \u001b[0;31m# Full simulations\u001b[0m\u001b[0;34m\u001b[0m\u001b[0;34m\u001b[0m\u001b[0m\n\u001b[0;32m----> 2\u001b[0;31m \u001b[0;32mif\u001b[0m \u001b[0mFULL_SIMS\u001b[0m\u001b[0;34m:\u001b[0m\u001b[0;34m\u001b[0m\u001b[0m\n\u001b[0m\u001b[1;32m      3\u001b[0m     \u001b[0mtemp\u001b[0m \u001b[0;34m=\u001b[0m \u001b[0;36m0.1\u001b[0m\u001b[0;34m\u001b[0m\u001b[0m\n\u001b[1;32m      4\u001b[0m     \u001b[0manticorrelated\u001b[0m \u001b[0;34m=\u001b[0m \u001b[0;32mTrue\u001b[0m\u001b[0;34m\u001b[0m\u001b[0m\n\u001b[1;32m      5\u001b[0m     \u001b[0mlowbounded\u001b[0m \u001b[0;34m=\u001b[0m \u001b[0;32mTrue\u001b[0m\u001b[0;34m\u001b[0m\u001b[0m\n",
      "\u001b[0;31mNameError\u001b[0m: name 'FULL_SIMS' is not defined"
     ]
    }
   ],
   "source": [
    "# Full simulations\n",
    "if FULL_SIMS:\n",
    "    temp = 0.1\n",
    "    anticorrelated = True\n",
    "    lowbounded = True\n",
    "\n",
    "    d_vals = [x / 100.0 for x in list(range(0, 201, 20))]\n",
    "\n",
    "    F = (4, 5, 6, 7)\n",
    "    C = (1, 2)\n",
    "    R = (2, 3, 4)\n",
    "    A = (0.1, 0.2, 0.3, 0.4)\n",
    "    T = (100, 150, 200, 250)\n",
    "\n",
    "    fstring = \"%.3f,\" * 11\n",
    "    fstring = fstring + \"%.8f\\n\"\n",
    "    output = open(\"simulations.txt\", \"w\")\n",
    "    output.write(\"NFeatures,NCorrect,NRules,Alpha,MaxTime,D1,D2,MaxTime,Time,SolutionsLeft,Solved,Activity\\n\")\n",
    "    \n",
    "    for f in F:\n",
    "        for c in C:\n",
    "            for r in R:\n",
    "                for a in A:\n",
    "                    for t in T:\n",
    "                        for d1 in d_vals:\n",
    "                            for d2 in d_vals:\n",
    "                                # Setting up the problem solver\n",
    "                                ps = rapm.Problem(nfeatures = f, ncorrect = c,  nrules = r, maxruns = t)\n",
    "                                ps.alpha = a\n",
    "                                ps.temperature = temp\n",
    "                                ps.anticorrelated = anticorrelated\n",
    "                                ps.lowbounded = lowbounded\n",
    "                                ps.d1 = d1\n",
    "                                ps.d2 = d2\n",
    "                                \n",
    "                                for n in range(nsims):\n",
    "                                    time, solutions, activity = ps.simulate()\n",
    "                                    s = 0\n",
    "                                    ns = len(solutions)\n",
    "                                    if ns == 0:\n",
    "                                        s = 1\n",
    "                                    data = (f, c, r, a, t, d1, d2, t, time, ns, s, activity)\n",
    "                                    #print(data)\n",
    "                                    #data = (float(x) for x in data)\n",
    "                                    output.write(fstring % data)\n",
    "                                    \n",
    "    \n"
   ]
  },
  {
   "cell_type": "code",
   "execution_count": 8,
   "metadata": {
    "collapsed": false
   },
   "outputs": [],
   "source": [
    "import rapm\n",
    "rapm.generate_scripts()"
   ]
  },
  {
   "cell_type": "code",
   "execution_count": 5,
   "metadata": {
    "collapsed": false
   },
   "outputs": [],
   "source": [
    "# Recreate the \"Time\" column\n",
    "if FULL_SIMS:\n",
    "    #nfeat = 6\n",
    "    #ncorrect = 1\n",
    "    #alpha = 0.1\n",
    "    temp = 0.1\n",
    "    nsims = 200\n",
    "    anticorrelated = True\n",
    "    nrules = 4\n",
    "    #maxruns = 150\n",
    "    lowbounded = True\n",
    "\n",
    "    d_vals = [x / 100.0 for x in list(range(0, 201, 20))]\n",
    "\n",
    "    F = (4, 5, 6, 7)\n",
    "    C = (1, 2)\n",
    "    R = (2, 3, 4)\n",
    "    A = (0.1, 0.2, 0.3, 0.4)\n",
    "    T = (100, 150, 200, 250)\n",
    "\n",
    "    output = open(\"time.txt\", \"w\")\n",
    "    output.write(\"MaxTime\\n\")\n",
    "    \n",
    "    for f in F:\n",
    "        for c in C:\n",
    "            for r in R:\n",
    "                for a in A:\n",
    "                    for t in T:\n",
    "                        for d1 in d_vals:\n",
    "                            for d2 in d_vals:\n",
    "                                # Setting up the problem solver\n",
    "                                \n",
    "                                for n in range(nsims):\n",
    "                                    output.write(\"%d\\n\" % t)\n",
    "                                    output.flush()\n"
   ]
  }
 ],
 "metadata": {
  "kernelspec": {
   "display_name": "Python 3",
   "language": "python",
   "name": "python3"
  },
  "language_info": {
   "codemirror_mode": {
    "name": "ipython",
    "version": 3
   },
   "file_extension": ".py",
   "mimetype": "text/x-python",
   "name": "python",
   "nbconvert_exporter": "python",
   "pygments_lexer": "ipython3",
   "version": "3.5.1"
  }
 },
 "nbformat": 4,
 "nbformat_minor": 2
}
